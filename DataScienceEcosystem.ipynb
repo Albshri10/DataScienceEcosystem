{
 "cells": [
  {
   "cell_type": "markdown",
   "id": "eac3a332-3d8f-4701-9102-08412b513a93",
   "metadata": {
    "tags": []
   },
   "source": [
    "# Data Science Tools and Ecosystem"
   ]
  },
  {
   "cell_type": "markdown",
   "id": "afc9c04f-abc1-4c5d-a69f-c7d8c3a25827",
   "metadata": {
    "tags": []
   },
   "source": [
    "###### In this notebook, Data Science Tools and Ecosystem are summarized."
   ]
  },
  {
   "cell_type": "markdown",
   "id": "33cbda6d-f21f-41a1-8a4f-e17a033e9389",
   "metadata": {},
   "source": [
    "**Objectives:**\n",
    "\n",
    "- Create a Jupyter Notebook\n",
    "- Insert and format Markdown cells\n",
    "- Implement arithmetic expressions in Python\n",
    "- List popular data science tools, languages, and libraries\n",
    "- Convert units and perform basic calculations\n"
   ]
  },
  {
   "cell_type": "markdown",
   "id": "8a641b51-ac10-42c3-a14d-6f1587aa0a5c",
   "metadata": {},
   "source": [
    "# Some of the popular languages that Data Scientists use are:\n",
    "1. python\n",
    "2. R\n",
    "3. SQL"
   ]
  },
  {
   "cell_type": "markdown",
   "id": "bb469750-5e61-4891-bb02-8e2407eab432",
   "metadata": {},
   "source": [
    "## Some of the commonly used libraries used by Data Scientists include:\n",
    "1. numpy\n",
    "2. pandas\n",
    "2. scikit-learn"
   ]
  },
  {
   "cell_type": "markdown",
   "id": "2d351583-6936-4d0b-8e30-e4a2a534c404",
   "metadata": {},
   "source": [
    "## Data Science Tools\n",
    "\n",
    "| Data Science Tools |\n",
    "|--------------------|\n",
    "| Jupyter Notebook   |\n",
    "| RStudio            |\n",
    "| Apache Zeppelin    |\n"
   ]
  },
  {
   "cell_type": "markdown",
   "id": "95ab5d5d-ce9f-488e-8cbf-03e9c3da367f",
   "metadata": {},
   "source": [
    "### Below are a few examples of evaluating arithmetic expressions in Python"
   ]
  },
  {
   "cell_type": "code",
   "execution_count": 4,
   "id": "e11988ae-d49c-4424-b102-38d5b554d897",
   "metadata": {
    "tags": []
   },
   "outputs": [
    {
     "data": {
      "text/plain": [
       "17"
      ]
     },
     "execution_count": 4,
     "metadata": {},
     "output_type": "execute_result"
    }
   ],
   "source": [
    "x = (3 * 4) + 5\n",
    "x\n",
    "# This a simple arithmetic expression to mutiply then add integers\n"
   ]
  },
  {
   "cell_type": "code",
   "execution_count": 5,
   "id": "bcd9d571-6741-4c1d-bcbd-d7d5b8f5a9c0",
   "metadata": {
    "tags": []
   },
   "outputs": [
    {
     "ename": "SyntaxError",
     "evalue": "unexpected character after line continuation character (3000418964.py, line 2)",
     "output_type": "error",
     "traceback": [
      "\u001b[0;36m  File \u001b[0;32m\"/tmp/ipykernel_355/3000418964.py\"\u001b[0;36m, line \u001b[0;32m2\u001b[0m\n\u001b[0;31m    h = min \\ 60\u001b[0m\n\u001b[0m                ^\u001b[0m\n\u001b[0;31mSyntaxError\u001b[0m\u001b[0;31m:\u001b[0m unexpected character after line continuation character\n"
     ]
    }
   ],
   "source": [
    "min = 200\n",
    "h = min \\ 60\n",
    "h\n",
    "#  This will convert 200 minutes to hours by diving by 60"
   ]
  },
  {
   "cell_type": "code",
   "execution_count": 6,
   "id": "ea027788-75d0-4654-96b7-06ea50c2afe9",
   "metadata": {
    "tags": []
   },
   "outputs": [
    {
     "data": {
      "text/plain": [
       "3.3333333333333335"
      ]
     },
     "execution_count": 6,
     "metadata": {},
     "output_type": "execute_result"
    }
   ],
   "source": [
    "min = 200\n",
    "h = min / 60\n",
    "h\n",
    "#  This will convert 200 minutes to hours by diving by 60"
   ]
  },
  {
   "cell_type": "markdown",
   "id": "b9c5b77c-10b7-4f82-9ab0-c81c5c262554",
   "metadata": {},
   "source": [
    "## Author\n",
    "\n",
    "Ayman Khaled Alharbi\n"
   ]
  },
  {
   "cell_type": "code",
   "execution_count": null,
   "id": "e98b6649-ce19-4137-b7dc-05ea5f120a91",
   "metadata": {},
   "outputs": [],
   "source": []
  }
 ],
 "metadata": {
  "kernelspec": {
   "display_name": "Python",
   "language": "python",
   "name": "conda-env-python-py"
  },
  "language_info": {
   "codemirror_mode": {
    "name": "ipython",
    "version": 3
   },
   "file_extension": ".py",
   "mimetype": "text/x-python",
   "name": "python",
   "nbconvert_exporter": "python",
   "pygments_lexer": "ipython3",
   "version": "3.7.12"
  }
 },
 "nbformat": 4,
 "nbformat_minor": 5
}
